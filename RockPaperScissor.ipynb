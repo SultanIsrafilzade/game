{
 "cells": [
  {
   "cell_type": "code",
   "execution_count": 4,
   "metadata": {},
   "outputs": [],
   "source": [
    "import random"
   ]
  },
  {
   "cell_type": "code",
   "execution_count": 14,
   "metadata": {},
   "outputs": [
    {
     "name": "stdout",
     "output_type": "stream",
     "text": [
      "\n",
      "You chose paper, computer chose scissors.\n",
      "\n",
      "Scissors cuts paper! You lose.\n"
     ]
    }
   ],
   "source": [
    "user_action = input(\"Enter a choice (rock, paper, scissors): \")\n",
    "possible_actions = [\"rock\", \"paper\", \"scissors\"]\n",
    "computer_action = random.choice(possible_actions)\n",
    "print(f\"\\nYou chose {user_action}, computer chose {computer_action}.\\n\")\n",
    "def game(a,b):\n",
    "    if a == b:\n",
    "        print(f\"Both players selected {a}. It's a tie!\")\n",
    "    elif a == \"rock\":\n",
    "        if b == \"scissors\":\n",
    "            print(\"Rock smashes scissors! You win!\")\n",
    "        else:\n",
    "            print(\"Paper covers rock! You lose.\")\n",
    "    elif a  == \"paper\":\n",
    "        if b == \"rock\":\n",
    "            print(\"Paper covers rock! You win!\")\n",
    "        else:\n",
    "            print(\"Scissors cuts paper! You lose.\")\n",
    "    elif a == \"scissors\":\n",
    "        if b == \"paper\":\n",
    "            print(\"Scissors cuts paper! You win!\")\n",
    "        else:\n",
    "            print(\"Rock smashes scissors! You lose.\")\n",
    "game(user_action,computer_action)"
   ]
  }
 ],
 "metadata": {
  "kernelspec": {
   "display_name": "Python 3",
   "language": "python",
   "name": "python3"
  },
  "language_info": {
   "codemirror_mode": {
    "name": "ipython",
    "version": 3
   },
   "file_extension": ".py",
   "mimetype": "text/x-python",
   "name": "python",
   "nbconvert_exporter": "python",
   "pygments_lexer": "ipython3",
   "version": "3.11.0 (main, Oct 24 2022, 18:26:48) [MSC v.1933 64 bit (AMD64)]"
  },
  "orig_nbformat": 4,
  "vscode": {
   "interpreter": {
    "hash": "591a7ca68a5136ccd5784b8427ed9fd0709cfc630809e80be268e37b93af57fa"
   }
  }
 },
 "nbformat": 4,
 "nbformat_minor": 2
}
